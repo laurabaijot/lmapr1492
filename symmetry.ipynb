{
 "cells": [
  {
   "cell_type": "markdown",
   "id": "0bd4ce10",
   "metadata": {},
   "source": [
    "# Tâche n°5 : Opérations de symétrie "
   ]
  },
  {
   "cell_type": "markdown",
   "id": "f8b09268",
   "metadata": {},
   "source": [
    "1) Téléchargement de la structure "
   ]
  },
  {
   "cell_type": "code",
   "execution_count": 1,
   "id": "7fe46f82",
   "metadata": {},
   "outputs": [
    {
     "data": {
      "application/vnd.jupyter.widget-view+json": {
       "model_id": "6bce1f8599bb498cad0be3924a8e6b8a",
       "version_major": 2,
       "version_minor": 0
      },
      "text/plain": [
       "Retrieving MaterialsDoc documents:   0%|          | 0/1 [00:00<?, ?it/s]"
      ]
     },
     "metadata": {},
     "output_type": "display_data"
    }
   ],
   "source": [
    "from pymatgen.symmetry.analyzer import SpacegroupAnalyzer\n",
    "from jupyter_jsmol.pymatgen import quick_view\n",
    "from pymatgen.ext.matproj import MPRester\n",
    "\n",
    "api_key = \"yDHrTj9RRkoKjTjOFwD0btKpsIOcE65N\"\n",
    "with MPRester(api_key) as m:\n",
    "    structure = m.get_structure_by_material_id(\"mp-20072\", conventional_unit_cell=True)\n",
    "    "
   ]
  },
  {
   "cell_type": "markdown",
   "id": "35ff9dab",
   "metadata": {},
   "source": [
    "2) choix des différentes symétries "
   ]
  },
  {
   "cell_type": "code",
   "execution_count": 2,
   "id": "a0b57287",
   "metadata": {},
   "outputs": [
    {
     "name": "stdout",
     "output_type": "stream",
     "text": [
      "Éléments de symétrie sélectionnés :\n",
      "Rot:\n",
      "[[-1.  0.  0.]\n",
      " [ 0. -1.  0.]\n",
      " [ 0.  0. -1.]]\n",
      "tau\n",
      "[0. 0. 0.]\n",
      "Rot:\n",
      "[[ 0. -1.  0.]\n",
      " [-1.  0.  0.]\n",
      " [ 0.  0.  1.]]\n",
      "tau\n",
      "[0. 0. 0.]\n",
      "Rot:\n",
      "[[-1.  0.  0.]\n",
      " [-1.  1.  0.]\n",
      " [ 0.  0. -1.]]\n",
      "tau\n",
      "[0. 0. 0.]\n"
     ]
    }
   ],
   "source": [
    "\n",
    "sga = SpacegroupAnalyzer(structure)\n",
    "symm_ops = sga.get_symmetry_operations()\n",
    "\n",
    "\n",
    "## Sélection de trois éléments de symétrie\n",
    "symm_op_1 = symm_ops[1]  # Premier élément\n",
    "symm_op_2 = symm_ops[7]  # Deuxième élément\n",
    "symm_op_3 = symm_ops[10] # Troisième élément\n",
    "\n",
    "## Pour chacune des symétries on va afficher la matrice de rotation et de translation \n",
    "print(\"Éléments de symétrie sélectionnés :\")\n",
    "print(symm_op_1)\n",
    "print(symm_op_2)\n",
    "print(symm_op_3)"
   ]
  },
  {
   "cell_type": "markdown",
   "id": "67c754d4",
   "metadata": {},
   "source": [
    "Pour la première symétrie on a : \n",
    "$$\n",
    "(x, y, z) \\to (-x, -y, -z)\n",
    "$$\n",
    "Pour la seconde symétrie on a : \n",
    "$$\n",
    "(x, y, z) \\to (-y, -x, z)\n",
    "$$\n",
    "Pour la dernière symétrie on a:\n",
    "$$\n",
    "(x, y, z) \\to (-x, -x + y, -z)\n",
    "$$\n"
   ]
  },
  {
   "cell_type": "markdown",
   "id": "a2a5f9e1",
   "metadata": {},
   "source": [
    "3) Application des symétries aux atomes "
   ]
  },
  {
   "cell_type": "code",
   "execution_count": 3,
   "id": "e8968c0e",
   "metadata": {},
   "outputs": [
    {
     "name": "stdout",
     "output_type": "stream",
     "text": [
      "Positions de départ\n",
      "\n",
      "Atome 1 : La1, Position : [0.33333333 0.66666667 0.16666667]\n",
      "Atome 2 : Cu1, Position : [0.33333333 0.66666667 0.66666667]\n",
      "Atome 3 : O1, Position : [0.        0.        0.8935977]\n",
      "\n",
      "Nouvelles positions des atomes après transformation :\n",
      "\n",
      "Nouvelle position de l'atome 1: [-0.33333333 -0.66666667 -0.16666667]\n",
      "Nouvelle position de l'atome 2: [-0.66666667 -0.33333333  0.66666667]\n",
      "Nouvelle position de l'atome 3: [ 0.         0.        -0.8935977]\n"
     ]
    }
   ],
   "source": [
    "## Sélection de 3 atomes différents \n",
    "\n",
    "atom_1 = structure.sites[0].frac_coords\n",
    "atom_2 = structure.sites[5].frac_coords\n",
    "atom_3 = structure.sites[11].frac_coords\n",
    "\n",
    "species_1 = structure.sites[0]\n",
    "species_2 = structure.sites[5]\n",
    "species_3 = structure.sites[11]\n",
    "\n",
    "print(\"Positions de départ\")\n",
    "print()\n",
    "print(f\"Atome 1 : {species_1.species}, Position : {atom_1}\")\n",
    "print(f\"Atome 2 : {species_2.species}, Position : {atom_2}\")\n",
    "print(f\"Atome 3 : {species_3.species}, Position : {atom_3}\")\n",
    "print()\n",
    "\n",
    "## Application des symétries aux atomes \n",
    "new_atom_1 = symm_op_1.operate(atom_1)\n",
    "new_atom_2 = symm_op_2.operate(atom_2)\n",
    "new_atom_3 = symm_op_3.operate(atom_3)\n",
    "\n",
    "print(\"Nouvelles positions des atomes après transformation :\")\n",
    "print()\n",
    "print(f\"Nouvelle position de l'atome 1: {new_atom_1}\")\n",
    "print(f\"Nouvelle position de l'atome 2: {new_atom_2}\")\n",
    "print(f\"Nouvelle position de l'atome 3: {new_atom_3}\")"
   ]
  },
  {
   "cell_type": "markdown",
   "id": "a089365e",
   "metadata": {},
   "source": [
    "4) Visualisation avec JSmol "
   ]
  },
  {
   "cell_type": "code",
   "execution_count": 7,
   "id": "266e8d41",
   "metadata": {},
   "outputs": [
    {
     "name": "stdout",
     "output_type": "stream",
     "text": [
      "SYMOP 3 appliqué sur La1 à la position [0.33333333 0.66666667 0.16666667]\n"
     ]
    },
    {
     "data": {
      "application/vnd.jupyter.widget-view+json": {
       "model_id": "d94e28c454904ac0b990af2aa45e5e74",
       "version_major": 2,
       "version_minor": 0
      },
      "text/plain": [
       "JsmolView(layout=Layout(align_self='stretch', height='400px'))"
      ]
     },
     "metadata": {},
     "output_type": "display_data"
    },
    {
     "name": "stdout",
     "output_type": "stream",
     "text": [
      "SYMOP 8 appliqué sur Cu1 à la position [0.33333333 0.66666667 0.66666667]\n"
     ]
    },
    {
     "data": {
      "application/vnd.jupyter.widget-view+json": {
       "model_id": "4dfe8f5f6f374597ad1597a3bfb407ac",
       "version_major": 2,
       "version_minor": 0
      },
      "text/plain": [
       "JsmolView(layout=Layout(align_self='stretch', height='400px'))"
      ]
     },
     "metadata": {},
     "output_type": "display_data"
    },
    {
     "name": "stdout",
     "output_type": "stream",
     "text": [
      "SYMOP 11 appliqué sur O1 à la position [0.        0.        0.8935977]\n"
     ]
    },
    {
     "data": {
      "application/vnd.jupyter.widget-view+json": {
       "model_id": "40624573abad43dba0c5a3b0c056cf6a",
       "version_major": 2,
       "version_minor": 0
      },
      "text/plain": [
       "JsmolView(layout=Layout(align_self='stretch', height='400px'))"
      ]
     },
     "metadata": {},
     "output_type": "display_data"
    }
   ],
   "source": [
    "\n",
    "\n",
    "\n",
    "print(f\"SYMOP 3 appliqué sur {species_1.species} à la position {atom_1}\")\n",
    "view1 = quick_view(structure)\n",
    "display(view1)\n",
    "view1.script('draw SYMOP 2 {atomno=1}')\n",
    "\n",
    "\n",
    "\n",
    "print(f\"SYMOP 8 appliqué sur {species_2.species} à la position {atom_2}\")\n",
    "view2 = quick_view(structure)\n",
    "display(view2)\n",
    "view2.script('draw SYMOP 8 {atomno=6}')\n",
    " \n",
    "\n",
    "\n",
    "print(f\"SYMOP 11 appliqué sur {species_3.species} à la position {atom_3}\")\n",
    "view3 = quick_view(structure)\n",
    "display(view3)\n",
    "view3.script('draw SYMOP 11 {atomno=12}') "
   ]
  },
  {
   "cell_type": "code",
   "execution_count": null,
   "id": "9925699f",
   "metadata": {},
   "outputs": [],
   "source": []
  }
 ],
 "metadata": {
  "kernelspec": {
   "display_name": "Python 3 (ipykernel)",
   "language": "python",
   "name": "python3"
  },
  "language_info": {
   "codemirror_mode": {
    "name": "ipython",
    "version": 3
   },
   "file_extension": ".py",
   "mimetype": "text/x-python",
   "name": "python",
   "nbconvert_exporter": "python",
   "pygments_lexer": "ipython3",
   "version": "3.9.13"
  }
 },
 "nbformat": 4,
 "nbformat_minor": 5
}
