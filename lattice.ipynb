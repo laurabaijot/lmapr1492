{
 "cells": [
  {
   "cell_type": "markdown",
   "id": "726f73a2",
   "metadata": {},
   "source": [
    "# Tâche n°4:  Analyse cristallographique d’un matériau\n",
    "\n",
    "\n",
    "   "
   ]
  },
  {
   "cell_type": "markdown",
   "id": "ef414479",
   "metadata": {},
   "source": [
    "1) Téléchargement de la structure du matériaux "
   ]
  },
  {
   "cell_type": "code",
   "execution_count": 1,
   "id": "3b35641e",
   "metadata": {},
   "outputs": [
    {
     "data": {
      "application/vnd.jupyter.widget-view+json": {
       "model_id": "fe5302b494d646f7ae8cfded62b69254",
       "version_major": 2,
       "version_minor": 0
      },
      "text/plain": [
       "Retrieving MaterialsDoc documents:   0%|          | 0/1 [00:00<?, ?it/s]"
      ]
     },
     "metadata": {},
     "output_type": "display_data"
    }
   ],
   "source": [
    "from pymatgen.ext.matproj import MPRester\n",
    "from pymatgen.symmetry.analyzer import SpacegroupAnalyzer\n",
    "\n",
    "with MPRester (\"yDHrTj9RRkoKjTjOFwD0btKpsIOcE65N\") as m:\n",
    "    \n",
    "    #Création de la structure du cristal à partir du MP\n",
    "    structure = m.get_structure_by_material_id(\"mp-20072\")\n",
    "\n",
    "\n",
    "\n",
    "#Création d'un objet SpaceGroupAnalyzer\n",
    "struct = SpacegroupAnalyzer(structure)\n",
    "prim_struct = struct.get_primitive_standard_structure()"
   ]
  },
  {
   "cell_type": "markdown",
   "id": "a7b3eda8",
   "metadata": {},
   "source": [
    "2) Vecteur de base de ses réseaux direct \n",
    "\n",
    "Tout d'abord on va déterminer les différentes caractéristique de notre maille cristalline. A savoir a,b et c ainsi que alpha, beta et gamma de notre maille primitive. "
   ]
  },
  {
   "cell_type": "code",
   "execution_count": 2,
   "id": "439902c7",
   "metadata": {
    "scrolled": true
   },
   "outputs": [
    {
     "name": "stdout",
     "output_type": "stream",
     "text": [
      "Maille primitive: a = 6.055 Å, b = 6.055 Å, c = 6.055 Å, α = 37.029°, β = 37.029°, γ = 37.029° \n"
     ]
    }
   ],
   "source": [
    "\n",
    "prim_lattice = prim_struct.lattice\n",
    "print(f\"Maille primitive: a = {prim_lattice.a:.3f} Å, b = {prim_lattice.a:.3f} Å, c = {prim_lattice.a:.3f} Å, α = {prim_lattice.alpha:.3f}°, β = {prim_lattice.beta:.3f}°, γ = {prim_lattice.gamma:.3f}° \")"
   ]
  },
  {
   "cell_type": "markdown",
   "id": "c530e14b",
   "metadata": {},
   "source": [
    "Ensuite, grâce aux différentes caractéristiques trouvées ci dessus on va pouvoir déterminer les vecteurs de base du réseau direct. \n",
    "\n"
   ]
  },
  {
   "cell_type": "code",
   "execution_count": 3,
   "id": "e2282e37",
   "metadata": {},
   "outputs": [
    {
     "name": "stdout",
     "output_type": "stream",
     "text": [
      "Base des vecteurs du réseau direct :\n",
      "[[3.64643709 0.         4.833893  ]\n",
      " [1.61875837 3.26743397 4.833893  ]\n",
      " [0.         0.         6.055     ]]\n"
     ]
    }
   ],
   "source": [
    "from pymatgen.symmetry.analyzer import SpacegroupAnalyzer\n",
    "\n",
    "# Récupération des caractéristiques de la maille cristalline\n",
    "longueur_vecteur = 6.055\n",
    "angle_lattice = 37.029\n",
    "\n",
    "\n",
    "# comme on a que a=b=c et que α = β = γ ≠ 90° on peut utiliser la formule rhombohedral pour trouver les vecteurs de base \n",
    "matrice_vecteurs_directs = struct.find_primitive().lattice.rhombohedral(longueur_vecteur, angle_lattice).matrix\n",
    "\n",
    "\n",
    "print(\"Base des vecteurs du réseau direct :\")\n",
    "print(matrice_vecteurs_directs)\n",
    "\n",
    "\n"
   ]
  },
  {
   "cell_type": "code",
   "execution_count": null,
   "id": "103a891f",
   "metadata": {},
   "outputs": [],
   "source": []
  },
  {
   "cell_type": "code",
   "execution_count": 4,
   "id": "b57a505b",
   "metadata": {
    "scrolled": true
   },
   "outputs": [
    {
     "name": "stdout",
     "output_type": "stream",
     "text": [
      "Vecteurs du réseau direct :\n",
      "[[ 5.74160558e+00 -1.92274365e+00 -4.12061000e-03]\n",
      " [ 5.74160558e+00  1.92274365e+00 -4.12061000e-03]\n",
      " [ 5.10006378e+00 -0.00000000e+00  3.26379283e+00]]\n"
     ]
    }
   ],
   "source": [
    "lattice = structure.lattice\n",
    "print(\"Vecteurs du réseau direct :\")\n",
    "print(lattice.matrix)"
   ]
  },
  {
   "cell_type": "markdown",
   "id": "12bd0a42",
   "metadata": {},
   "source": [
    "3. Vecteur de base de ses réseaux réciproque \n",
    "\n",
    "Les vecteurs de base du réseau réciproque sont donnés par :\n",
    "\n",
    "$$\n",
    "\\mathbf{a}^* = \\frac{2\\pi}{V} (\\mathbf{b} \\times \\mathbf{c})\n",
    "$$\n",
    "\n",
    "$$\n",
    "\\mathbf{b}^* = \\frac{2\\pi}{V} (\\mathbf{c} \\times \\mathbf{a})\n",
    "$$\n",
    "\n",
    "$$\n",
    "\\mathbf{c}^* = \\frac{2\\pi}{V} (\\mathbf{a} \\times \\mathbf{b})\n",
    "$$\n",
    "\n",
    "où \\( V \\) est le volume de la maille directe, donné par :\n",
    "\n",
    "$$\n",
    "V = \\mathbf{a} \\cdot (\\mathbf{b} \\times \\mathbf{c})\n",
    "$$"
   ]
  },
  {
   "cell_type": "code",
   "execution_count": 5,
   "id": "e281b210",
   "metadata": {},
   "outputs": [
    {
     "name": "stdout",
     "output_type": "stream",
     "text": [
      "Longueurs des vecteurs du réseau réciproque : a* = 1.923 Å⁻¹, b* = 1.923 Å⁻¹, c* = 1.923 Å⁻¹\n",
      "Angles du réseau réciproque : α* = 116.355°, β* = 116.355°, γ* = 116.355°\n"
     ]
    }
   ],
   "source": [
    "# Récupération du réseau réciproque\n",
    "reciprocal = prim_struct.lattice.reciprocal_lattice\n",
    "\n",
    "# Longueurs des vecteurs du réseau réciproque\n",
    "a_r, b_r, c_r = reciprocal.a, reciprocal.b, reciprocal.c\n",
    "\n",
    "# Angles du réseau réciproque\n",
    "alpha_r, beta_r, gamma_r = reciprocal.alpha, reciprocal.beta, reciprocal.gamma\n",
    "\n",
    "# Affichage des résultats\n",
    "print(f\"Longueurs des vecteurs du réseau réciproque : a* = {a_r:.3f} Å⁻¹, b* = {b_r:.3f} Å⁻¹, c* = {c_r:.3f} Å⁻¹\")\n",
    "print(f\"Angles du réseau réciproque : α* = {alpha_r:.3f}°, β* = {beta_r:.3f}°, γ* = {gamma_r:.3f}°\")\n"
   ]
  },
  {
   "cell_type": "code",
   "execution_count": 6,
   "id": "15b54aa6",
   "metadata": {},
   "outputs": [
    {
     "name": "stdout",
     "output_type": "stream",
     "text": [
      "\n",
      "Vecteurs de base du réseau réciproque :\n",
      "[[ 1.72309382 -0.85365657  0.        ]\n",
      " [ 0.          1.92296174  0.        ]\n",
      " [-1.37559462 -0.85365662  1.03768591]]\n"
     ]
    }
   ],
   "source": [
    "import numpy as np\n",
    "\n",
    "# Matrice des vecteurs du réseau direct (de l'image 1)\n",
    "direct_lattice_matrix = np.array([\n",
    "    [3.64645571, 0, 4.83387583],\n",
    "    [1.61876381, 3.26745206, 4.83387583],\n",
    "    [0, 0, 6.0549972]\n",
    "])\n",
    "\n",
    "# Extraction des vecteurs du réseau direct\n",
    "a_vec, b_vec, c_vec = direct_lattice_matrix\n",
    "\n",
    "# Calcul du volume de la maille directe\n",
    "V = np.dot(a_vec, np.cross(b_vec, c_vec))\n",
    "\n",
    "# Calcul des vecteurs du réseau réciproque\n",
    "a_star_vec = (2 * np.pi / V) * np.cross(b_vec, c_vec)\n",
    "b_star_vec = (2 * np.pi / V) * np.cross(c_vec, a_vec)\n",
    "c_star_vec = (2 * np.pi / V) * np.cross(a_vec, b_vec)\n",
    "\n",
    "# Matrice des vecteurs du réseau réciproque\n",
    "reciprocal_lattice_matrix = np.array([a_star_vec, b_star_vec, c_star_vec])\n",
    "\n",
    "# Affichage des résultats\n",
    "print(\"\\nVecteurs de base du réseau réciproque :\")\n",
    "print(reciprocal_lattice_matrix)"
   ]
  },
  {
   "cell_type": "code",
   "execution_count": 7,
   "id": "338f6e5c",
   "metadata": {},
   "outputs": [
    {
     "name": "stdout",
     "output_type": "stream",
     "text": [
      "Vecteurs du réseau réciproque :\n",
      "[[ 5.46549812e-01 -1.63391134e+00 -8.54048969e-01]\n",
      " [ 5.46549812e-01  1.63391134e+00 -8.54048969e-01]\n",
      " [ 1.38006224e-03  0.00000000e+00  1.92296118e+00]]\n"
     ]
    }
   ],
   "source": [
    "reciprocal_lattice = lattice.reciprocal_lattice\n",
    "print(\"Vecteurs du réseau réciproque :\")\n",
    "print(reciprocal_lattice.matrix)"
   ]
  },
  {
   "cell_type": "markdown",
   "id": "7692422e",
   "metadata": {},
   "source": [
    " 4. Identification du type de maille et du système cristallin  \n",
    "    \n",
    "On a trouvé que a = b = c = 6.055 Å et que alpha = beta = gamma = 37,029°. On est dans le cas ou a = b = c et alpha = beta = gamma ≠ 90°, c'est donc un système rhombohédrique. \n",
    "    \n",
    "Et un réseau rhombohédrique fait toujours partie du système trigonal."
   ]
  },
  {
   "cell_type": "code",
   "execution_count": 8,
   "id": "2231b0f1",
   "metadata": {},
   "outputs": [
    {
     "name": "stdout",
     "output_type": "stream",
     "text": [
      "Type de maille : rhombohedral\n",
      "Système cristallin : trigonal\n"
     ]
    }
   ],
   "source": [
    "sga = SpacegroupAnalyzer(structure)\n",
    "\n",
    "lattice_type = sga.get_lattice_type()\n",
    "print(\"Type de maille :\", lattice_type)\n",
    "\n",
    "crystal_system = sga.get_crystal_system()\n",
    "print(\"Système cristallin :\", crystal_system)"
   ]
  },
  {
   "cell_type": "markdown",
   "id": "a54e6ddb",
   "metadata": {},
   "source": [
    "5. Détermination du groupe ponctuel \n",
    "\n",
    "Pour ce qui est du groupe ponctuel, on trouve que c'est -3m. Cela signifie qu'il possède un axe de rotation d'ordre 3 et qu'il\n",
    "y a un plan miroir perpendiculaire à cet axe.\n",
    "\n"
   ]
  },
  {
   "cell_type": "code",
   "execution_count": 9,
   "id": "62670af0",
   "metadata": {
    "scrolled": true
   },
   "outputs": [
    {
     "name": "stdout",
     "output_type": "stream",
     "text": [
      "Groupe ponctuel : -3m\n"
     ]
    }
   ],
   "source": [
    "point_group = sga.get_point_group_symbol()\n",
    "print(\"Groupe ponctuel :\", point_group)"
   ]
  },
  {
   "cell_type": "markdown",
   "id": "eeae21f5",
   "metadata": {},
   "source": [
    " "
   ]
  },
  {
   "cell_type": "code",
   "execution_count": null,
   "id": "d8d2ff23",
   "metadata": {},
   "outputs": [],
   "source": []
  },
  {
   "cell_type": "code",
   "execution_count": null,
   "id": "a149b655",
   "metadata": {},
   "outputs": [],
   "source": []
  },
  {
   "cell_type": "code",
   "execution_count": null,
   "id": "6d7eb335",
   "metadata": {},
   "outputs": [],
   "source": []
  },
  {
   "cell_type": "code",
   "execution_count": null,
   "id": "aa5deb49",
   "metadata": {},
   "outputs": [],
   "source": []
  },
  {
   "cell_type": "code",
   "execution_count": null,
   "id": "4ce36963",
   "metadata": {},
   "outputs": [],
   "source": []
  }
 ],
 "metadata": {
  "kernelspec": {
   "display_name": "Python 3 (ipykernel)",
   "language": "python",
   "name": "python3"
  },
  "language_info": {
   "codemirror_mode": {
    "name": "ipython",
    "version": 3
   },
   "file_extension": ".py",
   "mimetype": "text/x-python",
   "name": "python",
   "nbconvert_exporter": "python",
   "pygments_lexer": "ipython3",
   "version": "3.9.13"
  }
 },
 "nbformat": 4,
 "nbformat_minor": 5
}
